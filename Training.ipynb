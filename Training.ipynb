{
 "cells": [
  {
   "cell_type": "code",
   "execution_count": 1,
   "metadata": {},
   "outputs": [],
   "source": [
    "import numpy as np\n",
    "import tensorflow as tf\n",
    "from tensorflow.keras import layers, models"
   ]
  },
  {
   "cell_type": "code",
   "execution_count": 2,
   "metadata": {},
   "outputs": [
    {
     "name": "stdout",
     "output_type": "stream",
     "text": [
      "Age Labels Shape: (36356,)\n",
      "Gender Labels Shape: (36356,)\n",
      "Image Data Shape: (36356, 10000)\n"
     ]
    }
   ],
   "source": [
    "# Load the dataset\n",
    "age_labels = np.load(\"./Dataset/imdb-wiki-image-npy/age.npy\")\n",
    "gender_labels = np.load(\"./Dataset/imdb-wiki-image-npy/gender.npy\")\n",
    "image_data = np.load(\"./Dataset/imdb-wiki-image-npy/imdb-wiki-image-data.npy\")\n",
    "\n",
    "# Check the shape of the arrays\n",
    "print(\"Age Labels Shape:\", age_labels.shape)\n",
    "print(\"Gender Labels Shape:\", gender_labels.shape)\n",
    "print(\"Image Data Shape:\", image_data.shape)"
   ]
  },
  {
   "cell_type": "code",
   "execution_count": 3,
   "metadata": {},
   "outputs": [
    {
     "name": "stdout",
     "output_type": "stream",
     "text": [
      "Updated Image Data Shape: (36356, 100, 100, 1)\n"
     ]
    }
   ],
   "source": [
    "# Reshape image data to original form (assuming images are square)\n",
    "image_size = int(np.sqrt(image_data.shape[1]))\n",
    "image_data = image_data.reshape(-1, image_size, image_size, 1)\n",
    "\n",
    "# Normalize pixel values to range [0, 1]\n",
    "image_data = image_data.astype('float32') / 255.0\n",
    "\n",
    "# Check the updated shape\n",
    "print(\"Updated Image Data Shape:\", image_data.shape)\n"
   ]
  },
  {
   "cell_type": "code",
   "execution_count": 15,
   "metadata": {},
   "outputs": [],
   "source": [
    "# Define the CNN architecture\n",
    "model = models.Sequential([\n",
    "    layers.Conv2D(32, (3, 3), activation='relu', input_shape=(100, 100, 1)),\n",
    "    layers.MaxPooling2D((2, 2)),\n",
    "    layers.Conv2D(64, (3, 3), activation='relu'),\n",
    "    layers.MaxPooling2D((2, 2)),\n",
    "    layers.Conv2D(128, (3, 3), activation='relu'),\n",
    "    layers.MaxPooling2D((2, 2)),\n",
    "    layers.Flatten(),\n",
    "    layers.Dropout(0.5),  # Add dropout layer with dropout rate of 0.5\n",
    "    layers.Dense(128, activation='relu'),\n",
    "    layers.Dropout(0.5),  \n",
    "    layers.Dense(1)  # Output layer for age prediction\n",
    "])"
   ]
  },
  {
   "cell_type": "code",
   "execution_count": 16,
   "metadata": {},
   "outputs": [
    {
     "name": "stdout",
     "output_type": "stream",
     "text": [
      "Model: \"sequential_1\"\n",
      "_________________________________________________________________\n",
      " Layer (type)                Output Shape              Param #   \n",
      "=================================================================\n",
      " conv2d_2 (Conv2D)           (None, 98, 98, 32)        320       \n",
      "                                                                 \n",
      " max_pooling2d_2 (MaxPoolin  (None, 49, 49, 32)        0         \n",
      " g2D)                                                            \n",
      "                                                                 \n",
      " conv2d_3 (Conv2D)           (None, 47, 47, 64)        18496     \n",
      "                                                                 \n",
      " max_pooling2d_3 (MaxPoolin  (None, 23, 23, 64)        0         \n",
      " g2D)                                                            \n",
      "                                                                 \n",
      " conv2d_4 (Conv2D)           (None, 21, 21, 128)       73856     \n",
      "                                                                 \n",
      " max_pooling2d_4 (MaxPoolin  (None, 10, 10, 128)       0         \n",
      " g2D)                                                            \n",
      "                                                                 \n",
      " flatten_1 (Flatten)         (None, 12800)             0         \n",
      "                                                                 \n",
      " dropout_2 (Dropout)         (None, 12800)             0         \n",
      "                                                                 \n",
      " dense_2 (Dense)             (None, 128)               1638528   \n",
      "                                                                 \n",
      " dropout_3 (Dropout)         (None, 128)               0         \n",
      "                                                                 \n",
      " dense_3 (Dense)             (None, 1)                 129       \n",
      "                                                                 \n",
      "=================================================================\n",
      "Total params: 1731329 (6.60 MB)\n",
      "Trainable params: 1731329 (6.60 MB)\n",
      "Non-trainable params: 0 (0.00 Byte)\n",
      "_________________________________________________________________\n"
     ]
    }
   ],
   "source": [
    "# Compile the model\n",
    "model.compile(optimizer='adam', loss='mean_squared_error', metrics=['mae', 'mape'])\n",
    "\n",
    "# Print model summary\n",
    "model.summary()\n"
   ]
  },
  {
   "cell_type": "code",
   "execution_count": 17,
   "metadata": {},
   "outputs": [
    {
     "name": "stdout",
     "output_type": "stream",
     "text": [
      "Epoch 1/10\n",
      "907/907 [==============================] - 180s 197ms/step - loss: 168.5708 - mae: 10.0821 - mape: 34.9244 - val_loss: 119.9932 - val_mae: 8.6259 - val_mape: 31.8803\n",
      "Epoch 2/10\n",
      "907/907 [==============================] - 180s 198ms/step - loss: 146.6266 - mae: 9.4368 - mape: 33.0590 - val_loss: 129.9716 - val_mae: 9.2937 - val_mape: 36.7784\n",
      "Epoch 3/10\n",
      "907/907 [==============================] - 193s 213ms/step - loss: 137.3920 - mae: 9.1084 - mape: 32.0011 - val_loss: 105.8906 - val_mae: 8.1052 - val_mape: 30.7599\n",
      "Epoch 4/10\n",
      "907/907 [==============================] - 221s 244ms/step - loss: 126.0402 - mae: 8.7313 - mape: 30.6347 - val_loss: 110.0553 - val_mae: 8.4438 - val_mape: 33.3262\n",
      "Epoch 5/10\n",
      "907/907 [==============================] - 216s 238ms/step - loss: 119.1065 - mae: 8.4625 - mape: 29.5490 - val_loss: 94.1944 - val_mae: 7.4294 - val_mape: 26.2065\n",
      "Epoch 6/10\n",
      "907/907 [==============================] - 217s 239ms/step - loss: 111.7693 - mae: 8.2336 - mape: 28.7494 - val_loss: 86.3255 - val_mae: 7.1792 - val_mape: 26.1046\n",
      "Epoch 7/10\n",
      "907/907 [==============================] - 213s 235ms/step - loss: 106.2702 - mae: 8.0010 - mape: 27.9496 - val_loss: 85.8875 - val_mae: 7.0119 - val_mape: 24.1418\n",
      "Epoch 8/10\n",
      "907/907 [==============================] - 209s 231ms/step - loss: 101.5189 - mae: 7.8468 - mape: 27.2671 - val_loss: 79.4919 - val_mae: 6.8499 - val_mape: 24.6532\n",
      "Epoch 9/10\n",
      "907/907 [==============================] - 211s 232ms/step - loss: 99.6101 - mae: 7.7558 - mape: 26.9375 - val_loss: 91.2469 - val_mae: 7.5722 - val_mape: 29.4620\n",
      "Epoch 10/10\n",
      "907/907 [==============================] - 216s 238ms/step - loss: 95.2894 - mae: 7.5754 - mape: 26.3048 - val_loss: 80.8526 - val_mae: 6.9140 - val_mape: 24.4370\n",
      "230/230 [==============================] - 14s 63ms/step - loss: 80.8526 - mae: 6.9140 - mape: 24.4370\n",
      "Validation Loss: 80.85262298583984\n",
      "Validation MAE: 6.914035320281982\n",
      "Validation MAPE: 24.437007904052734\n"
     ]
    }
   ],
   "source": [
    "# Define training and validation data\n",
    "X_train, X_val = image_data[:29000], image_data[29000:]\n",
    "y_train, y_val = age_labels[:29000], age_labels[29000:]\n",
    "\n",
    "# Train the model\n",
    "history = model.fit(X_train, y_train, epochs=10, batch_size=32, validation_data=(X_val, y_val))\n",
    "\n",
    "# Evaluate the model\n",
    "loss, mae, mape = model.evaluate(X_val, y_val)\n",
    "print(\"Validation Loss:\", loss)\n",
    "print(\"Validation MAE:\", mae)\n",
    "print(\"Validation MAPE:\", mape)\n"
   ]
  },
  {
   "cell_type": "code",
   "execution_count": 18,
   "metadata": {},
   "outputs": [],
   "source": [
    "# Save the trained model\n",
    "model.save(\"model_L80_M6_mape24.h5\")"
   ]
  }
 ],
 "metadata": {
  "kernelspec": {
   "display_name": "Python 3",
   "language": "python",
   "name": "python3"
  },
  "language_info": {
   "codemirror_mode": {
    "name": "ipython",
    "version": 3
   },
   "file_extension": ".py",
   "mimetype": "text/x-python",
   "name": "python",
   "nbconvert_exporter": "python",
   "pygments_lexer": "ipython3",
   "version": "3.11.5"
  }
 },
 "nbformat": 4,
 "nbformat_minor": 2
}
